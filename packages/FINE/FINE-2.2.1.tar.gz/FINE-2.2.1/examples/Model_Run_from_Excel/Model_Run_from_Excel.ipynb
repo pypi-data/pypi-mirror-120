{
 "cells": [
  {
   "cell_type": "markdown",
   "metadata": {},
   "source": [
    "# Using Excel for parameter input and model runs\n",
    "\n",
    "Besides using a python script or a jupyter notebook it is also possible to read and run a model using excel files.\n",
    "\n",
    "The energySystemModelRunFromExcel() function reads a model from excel, optimizes it and stores it to an excel file.\n",
    "\n",
    "The readEnergySystemModelFromExcel() function reads a model from excel.\n",
    "\n",
    "The model run can also be started on double-klicking on the run.bat Windows batch script in the folder where this notebook is located (still requires that a Python version, the FINE package and an optmization solver are installed).\n",
    "\n",
    "Moreover, it is possible to run the model inside the Excel file with a VBA Macro (see scenarioInputWithMacro.xlsx)"
   ]
  },
  {
   "cell_type": "markdown",
   "metadata": {},
   "source": [
    "# Import FINE package\n"
   ]
  },
  {
   "cell_type": "code",
   "execution_count": 1,
   "metadata": {},
   "outputs": [],
   "source": [
    "import FINE as fn \n",
    "%load_ext autoreload\n",
    "%autoreload 2"
   ]
  },
  {
   "cell_type": "markdown",
   "metadata": {},
   "source": [
    "# Call energySystemModelRunFromExcel function"
   ]
  },
  {
   "cell_type": "markdown",
   "metadata": {},
   "source": [
    "### Read model from excel file, optimize and store to excel file\n",
    "Checkout the output excel file in the folder where this notebook is located"
   ]
  },
  {
   "cell_type": "code",
   "execution_count": 2,
   "metadata": {
    "tags": [
     "nbval-skip"
    ]
   },
   "outputs": [
    {
     "name": "stdout",
     "output_type": "stream",
     "text": [
      "The distances of a component are set to a normalized value of 1.\n",
      "\n",
      "Clustering time series data with 3 typical periods and 24 time steps per period...\n"
     ]
    },
    {
     "name": "stderr",
     "output_type": "stream",
     "text": [
      " C:\\Users\\k.knosala\\Miniconda3\\envs\\fine-dev-py36\\lib\\site-packages\\tsam\\timeseriesaggregation.py:982: UserWarning:Something went wrong: At least one maximal value of the aggregated time series exceeds the maximal value the input time series\n"
     ]
    },
    {
     "name": "stdout",
     "output_type": "stream",
     "text": [
      "\t\t(1.9067 sec)\n",
      "\n",
      "Time series aggregation specifications:\n",
      "Number of typical periods:3, number of time steps per period:24\n",
      "\n",
      "Declaring sets, variables and constraints for StorageModel\n",
      "\tdeclaring sets... \n",
      "\tdeclaring variables... \n",
      "\tdeclaring constraints... \n",
      "\t\t(1.7592 sec)\n",
      "\n",
      "Declaring sets, variables and constraints for TransmissionModel\n",
      "\tdeclaring sets... \n",
      "\tdeclaring variables... \n",
      "\tdeclaring constraints... \n",
      "\t\t(0.2329 sec)\n",
      "\n",
      "Declaring sets, variables and constraints for SourceSinkModel\n",
      "\tdeclaring sets... \n",
      "\tdeclaring variables... \n",
      "\tdeclaring constraints... \n",
      "\t\t(0.2640 sec)\n",
      "\n",
      "Declaring sets, variables and constraints for ConversionModel\n",
      "\tdeclaring sets... \n",
      "\tdeclaring variables... \n",
      "\tdeclaring constraints... \n",
      "\t\t(0.0657 sec)\n",
      "\n",
      "Declaring shared potential constraint...\n",
      "\t\t(0.0000 sec)\n",
      "\n",
      "Declaring linked component quantity constraint...\n",
      "\t\t(0.0000 sec)\n",
      "\n",
      "Declaring commodity balances...\n",
      "\t\t(0.3105 sec)\n",
      "\n",
      "Declaring objective function...\n",
      "\t\t(0.1639 sec)\n",
      "\n",
      "Either solver not selected or specified solver not available.gurobi is set as solver.\n",
      "Using license file C:\\Users\\k.knosala\\gurobi.lic\n",
      "Academic license - for non-commercial use only\n",
      "Read LP format model from file C:\\Users\\K7BCD~1.KNO\\AppData\\Local\\Temp\\tmp1yk5nm4g.pyomo.lp\n",
      "Reading time = 0.26 seconds\n",
      "x43032: 50111 rows, 27264 columns, 147376 nonzeros\n",
      "Changed value of parameter QCPDual to 1\n",
      "   Prev: 0  Min: 0  Max: 1  Default: 0\n",
      "Changed value of parameter Threads to 3\n",
      "   Prev: 0  Min: 0  Max: 1024  Default: 0\n",
      "Parameter logfile unchanged\n",
      "   Value:   Default: \n",
      "Gurobi Optimizer version 9.0.3 build v9.0.3rc0 (win64)\n",
      "Optimize a model with 50111 rows, 27264 columns and 147376 nonzeros\n",
      "Model fingerprint: 0x5a9b6e5b\n",
      "Variable types: 27226 continuous, 38 integer (28 binary)\n",
      "Coefficient statistics:\n",
      "  Matrix range     [1e-06, 5e+02]\n",
      "  Objective range  [2e-06, 3e-01]\n",
      "  Bounds range     [1e+00, 6e+04]\n",
      "  RHS range        [4e-02, 5e+01]\n",
      "Presolve removed 13620 rows and 10101 columns\n",
      "Presolve time: 0.30s\n",
      "Presolved: 36491 rows, 17163 columns, 119873 nonzeros\n",
      "Variable types: 17139 continuous, 24 integer (14 binary)\n",
      "\n",
      "Deterministic concurrent LP optimizer: primal and dual simplex\n",
      "Showing first log only...\n",
      "\n",
      "\n",
      "Root simplex log...\n",
      "\n",
      "Iteration    Objective       Primal Inf.    Dual Inf.      Time\n",
      "   25334    5.0764896e+01   0.000000e+00   4.184926e+02      5s\n",
      "   32056    4.6339470e+01   0.000000e+00   5.767243e+02     10s\n",
      "   39137    4.4790081e+01   0.000000e+00   5.112935e+00     15s\n",
      "   41539    4.4785639e+01   0.000000e+00   0.000000e+00     17s\n",
      "   41539    4.4785639e+01   0.000000e+00   0.000000e+00     17s\n",
      "Concurrent spin time: 0.07s\n",
      "\n",
      "Solved with primal simplex\n",
      "\n",
      "Root relaxation: objective 4.478564e+01, 41539 iterations, 16.50 seconds\n",
      "\n",
      "    Nodes    |    Current Node    |     Objective Bounds      |     Work\n",
      " Expl Unexpl |  Obj  Depth IntInf | Incumbent    BestBd   Gap | It/Node Time\n",
      "\n",
      "     0     0   44.78564    0   14          -   44.78564      -     -   17s\n",
      "H    0     0                      45.5283097   44.78564  1.63%     -   18s\n",
      "     0     0   44.78579    0    9   45.52831   44.78579  1.63%     -   20s\n",
      "H    0     0                      44.7862402   44.78579  0.00%     -   20s\n",
      "\n",
      "Cutting planes:\n",
      "  Gomory: 5\n",
      "  MIR: 33\n",
      "  Flow cover: 616\n",
      "  Relax-and-lift: 7\n",
      "\n",
      "Explored 1 nodes (42577 simplex iterations) in 20.90 seconds\n",
      "Thread count was 3 (of 8 available processors)\n",
      "\n",
      "Solution count 2: 44.7862 45.5283 \n",
      "\n",
      "Optimal solution found (tolerance 1.00e-04)\n",
      "Warning: max constraint violation (3.6979e-06) exceeds tolerance\n",
      "Best objective 4.478624022263e+01, best bound 4.478579196044e+01, gap 0.0010%\n",
      "\n",
      "Status: ok\n",
      "Return code: 0\n",
      "Message: Model was solved to optimality (subject to tolerances), and an optimal solution is available.\n",
      "Termination condition: optimal\n",
      "Termination message: Model was solved to optimality (subject to tolerances), and an optimal solution is available.\n",
      "Wall time: 20.904191970825195\n",
      "Error rc: 0\n",
      "Time: 21.550978899002075\n",
      "\n",
      "\n",
      "Name: x43032\n",
      "Lower bound: 44.785791960442545\n",
      "Upper bound: 44.786240222628315\n",
      "Number of objectives: 1\n",
      "Number of constraints: 50111\n",
      "Number of variables: 27264\n",
      "Number of binary variables: 28\n",
      "Number of integer variables: 38\n",
      "Number of continuous variables: 27226\n",
      "Number of nonzeros: 147376\n",
      "Sense: minimize\n",
      "\n",
      "Solve time: 24.843822717666626 sec.\n",
      "\n",
      "Processing optimization output...\n"
     ]
    },
    {
     "name": "stderr",
     "output_type": "stream",
     "text": [
      " c:\\users\\k.knosala\\tools\\fine\\FINE\\storage.py:1164: UserWarning:Charge and discharge at the same time for component Salt caverns (hydrogen)\n",
      " c:\\users\\k.knosala\\tools\\fine\\FINE\\storage.py:1164: UserWarning:Charge and discharge at the same time for component Pumped hydro storage\n"
     ]
    },
    {
     "name": "stdout",
     "output_type": "stream",
     "text": [
      "for StorageModel ...       (2.6645sec)\n",
      "for TransmissionModel ...  (1.9669sec)\n",
      "for SourceSinkModel ...    (0.9748sec)\n",
      "for ConversionModel ...    (0.6365sec)\n",
      "\t\t(6.2426 sec)\n",
      "\n",
      "\n",
      "Writing output to Excel... \n",
      "\tProcessing StorageModel ...\n",
      "\tProcessing TransmissionModel ...\n",
      "\tProcessing SourceSinkModel ...\n",
      "\tProcessing ConversionModel ...\n",
      "\tSaving file...\n",
      "Done. (47.9753 sec)\n"
     ]
    }
   ],
   "source": [
    "esM = fn.energySystemModelRunFromExcel()"
   ]
  },
  {
   "cell_type": "markdown",
   "metadata": {},
   "source": [
    "### Read only"
   ]
  },
  {
   "cell_type": "code",
   "execution_count": 3,
   "metadata": {},
   "outputs": [
    {
     "name": "stdout",
     "output_type": "stream",
     "text": [
      "The distances of a component are set to a normalized value of 1.\n"
     ]
    }
   ],
   "source": [
    "esM, esMData = fn.readEnergySystemModelFromExcel()"
   ]
  },
  {
   "cell_type": "code",
   "execution_count": null,
   "metadata": {},
   "outputs": [],
   "source": []
  }
 ],
 "metadata": {
  "jupytext": {
   "formats": "ipynb,py:percent",
   "main_language": "python",
   "notebook_metadata_filter": "-kernelspec,-jupytext.text_representation"
  },
  "kernelspec": {
   "display_name": "Python [conda env:fine-dev-py36]",
   "language": "python",
   "name": "conda-env-fine-dev-py36-py"
  },
  "language_info": {
   "codemirror_mode": {
    "name": "ipython",
    "version": 3
   },
   "file_extension": ".py",
   "mimetype": "text/x-python",
   "name": "python",
   "nbconvert_exporter": "python",
   "pygments_lexer": "ipython3",
   "version": "3.6.12"
  }
 },
 "nbformat": 4,
 "nbformat_minor": 4
}
