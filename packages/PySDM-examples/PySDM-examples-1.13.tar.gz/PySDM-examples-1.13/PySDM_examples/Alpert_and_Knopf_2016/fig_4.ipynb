{
 "cells": [
  {
   "cell_type": "markdown",
   "metadata": {},
   "source": [
    "[![Binder](https://mybinder.org/badge_logo.svg)](https://mybinder.org/v2/gh/atmos-cloud-sim-uj/PySDM-examples.git/main?urlpath=lab/tree/PySDM_examples/Alpert_and_Knopf_2016/fig_4.ipynb)\n",
    "[![Open In Colab](https://colab.research.google.com/assets/colab-badge.svg)](https://colab.research.google.com/github/atmos-cloud-sim-uj/PySDM-examples/blob/main/PySDM_examples/Alpert_and_Knopf_2016/fig_4.ipynb)"
   ]
  },
  {
   "cell_type": "markdown",
   "metadata": {},
   "source": [
    "#### based on Fig. 4 from Alpert and Knopf 2016 (Atmos. Chem. Phys. 16) \"_Analysis of isothermal and cooling-rate-dependent immersion freezing by a unifying stochastic ice nucleation model_\"\n",
    "https://doi.org/10.5194/acp-16-2083-2016"
   ]
  },
  {
   "cell_type": "code",
   "execution_count": 1,
   "metadata": {
    "pycharm": {
     "name": "#%%\n"
    }
   },
   "outputs": [],
   "source": [
    "import sys\n",
    "if 'google.colab' in sys.modules:\n",
    "    !pip --quiet install atmos-cloud-sim-uj-utils\n",
    "    from atmos_cloud_sim_uj_utils import pip_install_on_colab\n",
    "    pip_install_on_colab('PySDM-examples>=1.13', 'PySDM>=1.13')"
   ]
  },
  {
   "cell_type": "code",
   "execution_count": 2,
   "metadata": {
    "pycharm": {
     "name": "#%%\n"
    }
   },
   "outputs": [],
   "source": [
    "from atmos_cloud_sim_uj_utils import show_plot\n",
    "from PySDM_examples.Alpert_and_Knopf_2016 import simulation, Simulation, Table2\n",
    "from PySDM.physics.heterogeneous_ice_nucleation_rate import abifm\n",
    "from PySDM.physics import si, Formulae\n",
    "from matplotlib import pylab\n",
    "import numpy as np"
   ]
  },
  {
   "cell_type": "code",
   "execution_count": 3,
   "metadata": {},
   "outputs": [],
   "source": [
    "cases = Table2()\n",
    "temperature_range=(228*si.K, 258*si.K)"
   ]
  },
  {
   "cell_type": "code",
   "execution_count": 4,
   "metadata": {},
   "outputs": [],
   "source": [
    "sim = Simulation(cases=cases, dt=10*si.s, heterogeneous_ice_nucleation_rate='ABIFM', \n",
    "                 temperature_range=temperature_range)"
   ]
  },
  {
   "cell_type": "code",
   "execution_count": 5,
   "metadata": {},
   "outputs": [],
   "source": [
    "sim.run(('Cr1', 'Cr2'))"
   ]
  },
  {
   "cell_type": "code",
   "execution_count": 6,
   "metadata": {},
   "outputs": [
    {
     "data": {
      "image/png": "[encoded data removed]",
      "text/plain": [
       "<Figure size 432x288 with 1 Axes>"
      ]
     },
     "metadata": {
      "needs_background": "light"
     },
     "output_type": "display_data"
    },
    {
     "data": {
      "application/vnd.jupyter.widget-view+json": {
       "model_id": "8f4c95739c8243f09491c6d2444d6318",
       "version_major": 2,
       "version_minor": 0
      },
      "text/plain": [
       "HTML(value=\"<a href='./tmpe7tbj616.pdf' target='_blank'>./tmpe7tbj616.pdf</a><br>\")"
      ]
     },
     "metadata": {},
     "output_type": "display_data"
    }
   ],
   "source": [
    "abifm.c = -10.67\n",
    "abifm.m = 54.48\n",
    "formulae = Formulae(heterogeneous_ice_nucleation_rate='ABIFM')\n",
    "x = np.linspace(*temperature_range) * si.K\n",
    "y = formulae.heterogeneous_ice_nucleation_rate.J_het(\n",
    "    formulae.saturation_vapour_pressure.a_w_ice.py_func(x)\n",
    ")\n",
    "pylab.title(\"a\")\n",
    "pylab.grid()\n",
    "pylab.plot(x, y, color='red', label='ABIFM $J_{het}$')\n",
    "pylab.yscale('log')\n",
    "pylab.xlim(temperature_range)\n",
    "pylab.ylim(1e-4, 1e10)\n",
    "pylab.legend()\n",
    "pylab.gca().set_box_aspect(1)\n",
    "show_plot()"
   ]
  },
  {
   "cell_type": "code",
   "execution_count": 7,
   "metadata": {},
   "outputs": [
    {
     "data": {
      "image/png": "[encoded data removed]",
      "text/plain": [
       "<Figure size 432x288 with 1 Axes>"
      ]
     },
     "metadata": {
      "needs_background": "light"
     },
     "output_type": "display_data"
    },
    {
     "data": {
      "application/vnd.jupyter.widget-view+json": {
       "model_id": "b1f89050f33144c7b37eb321f6645442",
       "version_major": 2,
       "version_minor": 0
      },
      "text/plain": [
       "HTML(value=\"<a href='./tmp489xsewf.pdf' target='_blank'>./tmp489xsewf.pdf</a><br>\")"
      ]
     },
     "metadata": {},
     "output_type": "display_data"
    }
   ],
   "source": [
    "sim.plot(ylim=(0, 1))\n",
    "pylab.title(\"c, d\")\n",
    "show_plot()"
   ]
  },
  {
   "cell_type": "code",
   "execution_count": null,
   "metadata": {},
   "outputs": [],
   "source": []
  }
 ],
 "metadata": {
  "kernelspec": {
   "display_name": "Python 3 (ipykernel)",
   "language": "python",
   "name": "python3"
  },
  "language_info": {
   "codemirror_mode": {
    "name": "ipython",
    "version": 3
   },
   "file_extension": ".py",
   "mimetype": "text/x-python",
   "name": "python",
   "nbconvert_exporter": "python",
   "pygments_lexer": "ipython3",
   "version": "3.8.2"
  }
 },
 "nbformat": 4,
 "nbformat_minor": 1
}
