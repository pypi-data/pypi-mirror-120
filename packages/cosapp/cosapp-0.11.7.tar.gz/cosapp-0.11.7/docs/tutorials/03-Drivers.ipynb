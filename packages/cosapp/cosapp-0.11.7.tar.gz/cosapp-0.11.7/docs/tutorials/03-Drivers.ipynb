{
 "cells": [
  {
   "cell_type": "markdown",
   "source": [
    "![CoSAppLogo](images/cosapp.svg) **CoSApp** tutorials:"
   ],
   "metadata": {
    "nbsphinx": "hidden"
   }
  },
  {
   "cell_type": "markdown",
   "source": [
    "# Drivers\n",
    "\n",
    "## What is a `Driver`?!\n",
    "\n",
    "`Driver` objects allow users to modify the state of a `System` for a given purpose. Resolution of non-linear equations, optimization, or time integration of dynamic equations are typical examples of `Driver` usage.\n",
    "As will be seen in this tutorial, drivers can also be nested and/or chained, to create a customized simulation workflow.\n",
    "\n",
    "## Introduction\n",
    "\n",
    "### Add a `Driver`\n",
    "\n",
    "Simply use the `add_driver` method passing the `Driver` object you want to use \n",
    "(see [Available drivers](#Available-Drivers) section of this tutorial)."
   ],
   "metadata": {}
  },
  {
   "cell_type": "code",
   "execution_count": null,
   "source": [
    "from cosapp.systems import System\r\n",
    "from cosapp.tests.library.ports import XPort\r\n",
    "\r\n",
    "class MultiplySystem(System):\r\n",
    "\r\n",
    "    def setup(self):\r\n",
    "        self.add_input(XPort, 'p_in', {'x': 1.})\r\n",
    "        self.add_output(XPort, 'p_out', {'x': 1.})\r\n",
    "\r\n",
    "        self.add_inward('K1', 5.)\r\n",
    "        \r\n",
    "    def compute(self):\r\n",
    "        self.p_out.x = self.p_in.x * self.K1\r\n"
   ],
   "outputs": [],
   "metadata": {}
  },
  {
   "cell_type": "code",
   "execution_count": null,
   "source": [
    "from cosapp.drivers import RunOnce\r\n",
    "\r\n",
    "m = MultiplySystem('mult')\r\n",
    "run = m.add_driver(RunOnce('run'))"
   ],
   "outputs": [],
   "metadata": {}
  },
  {
   "cell_type": "markdown",
   "source": [
    " ![Driver in system](images/drivers_1.svg)"
   ],
   "metadata": {}
  },
  {
   "cell_type": "markdown",
   "source": [
    "### Implementation\n",
    "\n",
    "Every `System` (including sub-systems) may have one or multiple `Driver` objects. They are stored in the `drivers` attribute.\n",
    "By default, no `Driver` is attached to a `System`.\n",
    "\n",
    "The `run_drivers` method of `System` executes drivers recursively. In the following example, the simplest driver\n",
    "[RunOnce](#RunOnce) is added and executed."
   ],
   "metadata": {}
  },
  {
   "cell_type": "code",
   "execution_count": null,
   "source": [
    "m = MultiplySystem('mult')\r\n",
    "m.add_driver(RunOnce('run'))\r\n",
    "print('m.drivers:', m.drivers) # print drivers of the system\r\n",
    "\r\n",
    "m.K1 = 2.\r\n",
    "m.p_in.x = 15.\r\n",
    "m.run_drivers()\r\n",
    "\r\n",
    "print(f\"m.p_out.x = {m.p_out.x}\")"
   ],
   "outputs": [],
   "metadata": {}
  },
  {
   "cell_type": "markdown",
   "source": [
    "### Driver chains and subdrivers\n",
    "\n",
    "If several drivers are attached to a system, `run_drivers` will execute them in turn, as a sequence of drivers.\n",
    "Furthermore, like a `System`, each individual `Driver` may have children, which also inherit from base class `Driver`. Nested drivers are created with method `add_child` of class `Driver`; they are stored in attribute `children` of the parent driver.\n",
    "\n",
    "By construction, a `System` can have as many levels of drivers as required.\n",
    "\n",
    "Driver chains and nested drivers thus allow users to define complex simulation scenarios, such as workflows, multi-point design, designs of experiment, optimization, *etc.*\n"
   ],
   "metadata": {}
  },
  {
   "cell_type": "markdown",
   "source": [
    "![drivers](images/drivers_2.svg)\n"
   ],
   "metadata": {}
  },
  {
   "cell_type": "code",
   "execution_count": null,
   "source": [
    "m = MultiplySystem('mult')\r\n",
    "run = m.add_driver(RunOnce('run'))\r\n",
    "\r\n",
    "print(f\"run.children: {run.children}\")  # driver 'run' has no child"
   ],
   "outputs": [],
   "metadata": {}
  },
  {
   "cell_type": "code",
   "execution_count": null,
   "source": [
    "subrun = run.add_child(RunOnce('subrun'))  # add a sub-driver 'subrun'\r\n",
    "\r\n",
    "print(f\"run.children: {run.children}\", f\"subrun.children: {subrun.children}\", sep=\"\\n\")"
   ],
   "outputs": [],
   "metadata": {}
  },
  {
   "cell_type": "markdown",
   "source": [
    "## Available Drivers\n",
    "\n",
    "**CoSApp** comes with a set of drivers to help users build their simulations.\n",
    "\n",
    "### RunOnce\n",
    "\n",
    "As the name suggests, `RunOnce` makes your `System` and its subsystems compute their code once. It does not deal with residues or iterative loops that may be necessary to resolve the `System`. Instead, it merely transports information from the top system down to the lowest level sub-systems."
   ],
   "metadata": {}
  },
  {
   "cell_type": "code",
   "execution_count": null,
   "source": [
    "from cosapp.systems import System\r\n",
    "from cosapp.tests.library.ports import XPort\r\n",
    "\r\n",
    "class MultiplySystem(System):\r\n",
    "\r\n",
    "    def setup(self):\r\n",
    "        self.add_input(XPort, 'p_in', {'x': 1.})\r\n",
    "        self.add_output(XPort, 'p_out', {'x': 1.})\r\n",
    "\r\n",
    "        self.add_inward('K1', 5.)\r\n",
    "        \r\n",
    "    def compute(self):\r\n",
    "        self.p_out.x = self.p_in.x * self.K1\r\n",
    "\r\n",
    "\r\n",
    "class MultiplyWithResidue(MultiplySystem):\r\n",
    "    \"\"\"Same as `MultiplySystem`, including an off-design problem\"\"\"\r\n",
    "    def setup(self):\r\n",
    "        super().setup()\r\n",
    "        \r\n",
    "        # off-design problem\r\n",
    "        self.add_inward('expected_output', 7.5)\r\n",
    "        self.add_unknown('p_in.x').add_equation('p_out.x == expected_output')\r\n"
   ],
   "outputs": [],
   "metadata": {}
  },
  {
   "cell_type": "code",
   "execution_count": null,
   "source": [
    "from cosapp.drivers import RunOnce\r\n",
    "\r\n",
    "m = MultiplyWithResidue('mult')\r\n",
    "run = m.add_driver(RunOnce('run'))\r\n",
    "\r\n",
    "m.run_drivers()\r\n",
    "\r\n",
    "print(\"List of defined drivers\\n\", dict(m.drivers))\r\n",
    "\r\n",
    "print(\"\",\r\n",
    "    f\"K1 = {m.K1}\",\r\n",
    "    f\"p_in.x = {m.p_in.x}\",\r\n",
    "    f\"p_out.x = {m.p_out.x}\",\r\n",
    "    f\"residues: {list(m.residues.values())}\",\r\n",
    "    sep=\"\\n\"\r\n",
    ")"
   ],
   "outputs": [],
   "metadata": {}
  },
  {
   "cell_type": "markdown",
   "source": [
    "### NonLinearSolver\r\n",
    "\r\n",
    "This `Driver` determines the parameters of your `System` declared as unknowns that satisfy its equations. It resolves the mathematical problem between free parameters and residues of its child drivers.\r\n",
    "\r\n",
    "A `NonLinearSolver` driver also resolves cyclic dependencies of its owner system (if any).\r\n",
    "\r\n",
    "Available options are:\r\n",
    "\r\n",
    "- *tol* - solver iterates until *residue <= tol* (1e-5 by default).\r\n",
    "- *factor* - relaxation factor applied at each iteration (1 by default; must be striclty positive).\r\n",
    "- *max_iter* - maximum number of iterations (500 by default).\r\n",
    "\r\n",
    "We define below a new `System` containing an equation, and solve it with a `NonLinearSolver` driver.\r\n",
    "\r\n",
    "An `unknown` is simply defined by its name. An `equation` is defined by a string of the kind `\"lhs == rhs\"`, where `lhs` and `rhs` denote the left- and right-hand sides. Each side of the `equation` may be a constant or an evaluable expression, as in `\"x - cos(sub.y) == z**2\"`, or  `\"x == 1.5\"`. An exception will be raised if both sides are trivially constant, as in `\"pi / 2 == 0\"`."
   ],
   "metadata": {}
  },
  {
   "cell_type": "code",
   "execution_count": null,
   "source": [
    "from cosapp.drivers import NonLinearSolver\r\n",
    "\r\n",
    "m = MultiplySystem('mult')\r\n",
    "\r\n",
    "solver = m.add_driver(NonLinearSolver('solver', max_iter=100, tol=1e-6, factor=0.8))\r\n",
    "solver.add_unknown('p_in.x').add_equation('p_out.x == 7.5')\r\n",
    "\r\n",
    "m.run_drivers()\r\n",
    "\r\n",
    "print(\"m.drivers:\", m.drivers)\r\n",
    "print(m.drivers['solver'].children)\r\n",
    "print(\"\",\r\n",
    "    f\"K1 = {m.K1}\",\r\n",
    "    f\"p_in.x = {m.p_in.x}\",\r\n",
    "    f\"p_out.x = {m.p_out.x}\",\r\n",
    "    f\"residues: {list(solver.problem.residues.values())}\",\r\n",
    "    sep=\"\\n\"\r\n",
    ")"
   ],
   "outputs": [],
   "metadata": {}
  },
  {
   "cell_type": "markdown",
   "source": [
    "### RunSingleCase\r\n",
    "\r\n",
    "`NonLinearSolver` is primarily designed to solve [multi-point problems](./08-Multipoints-Design.ipynb), where several [RunSingleCase](#RunSingleCase) drivers are declared as direct sub-drivers of the solver.\r\n",
    "By default, a `NonLinearSolver` driver comes with one [RunSingleCase](#RunSingleCase) child, called *runner*. \r\n",
    "\r\n",
    "![scipysolver](images/drivers_nonlinear.svg)\r\n",
    "\r\n",
    "`RunSingleCase` executes all subsystem drivers by recursively calling the `compute()` method of the top system and each of its children.\r\n",
    "\r\n",
    "This `Driver` does not contain a solver per se, but is helpfull to set boundary conditions, initial values, and define additional unknowns and/or equations.\r\n",
    "It is primarily meant to be used as an operating point of a [NonLinearSolver](#NonLinearSolver) driver.\r\n",
    "Therefore, `RunSingleCase` drivers are usually created as sub-drivers of `NonLinearSolver`, and are seldom directly attached to a system.\r\n",
    "\r\n",
    "The state of the owner `System` can be changed with two methods:\r\n",
    "\r\n",
    "- `set_values` will impose the value of prescribed input variables, as boundary conditions;\r\n",
    "- `set_init` will change the initial value of iteratives before resolving the case.\r\n",
    "\r\n",
    "Both methods take as argument a dictionary of the kind `{varname: value, ...}`, where `varname` is the name of an input variable *in the context of the driver owner*.\r\n",
    "For example, if the driver is attached to a system `head` possessing a child named `sub` and an inward `x`, `{'sub.k': 0.0, 'x': 0.1}` will affect variables `head.sub.k` and `head.x`."
   ],
   "metadata": {}
  },
  {
   "cell_type": "code",
   "execution_count": null,
   "source": [
    "from cosapp.drivers import RunSingleCase\r\n",
    "\r\n",
    "m = MultiplyWithResidue('mult')\r\n",
    "update = m.add_driver(RunSingleCase('update'))\r\n",
    "\r\n",
    "update.set_values({'expected_output': 15, 'K1': 2})\r\n",
    "update.set_init({'p_in.x': 1.5})\r\n",
    "m.run_drivers()\r\n",
    "\r\n",
    "print(\"List of defined drivers:\", m.drivers, sep=\"\\n\")\r\n",
    "print(\"\",\r\n",
    "    f\"K1 = {m.K1}\",\r\n",
    "    f\"p_in.x = {m.p_in.x}\",\r\n",
    "    f\"p_out.x = {m.p_out.x}\",\r\n",
    "    f\"residues: {list(m.residues.values())}\",\r\n",
    "    sep=\"\\n\"\r\n",
    ")"
   ],
   "outputs": [],
   "metadata": {}
  },
  {
   "cell_type": "markdown",
   "source": [
    "Another important ability of this driver is the addition of unknowns and equations to the mathematical system.\r\n",
    "There are two kinds of problems for a `RunSingleCase` driver:\r\n",
    "\r\n",
    "- **Design problems**: They are associated with design variables that are frozen in the final product; e.g. the diameter of a pipe. Design unknowns are uniquely defined, and shared between all design points, when several `RunSingleCase` drivers are present (see tutorial on [multi-point design](08-Multipoints-Design.ipynb)).\r\n",
    "- **Local off-design problems**: They correspond to constraints imposed at the design point only. Local `RunSingleCase` unknowns will usually assume different values at different design points.\r\n",
    "\r\n",
    "Design and off-design problems are stored in attributes `design` and `offdesign`, respectively.\r\n",
    "Unknowns and equations are added with methods `add_unknown` and `add_equation`:\r\n",
    "\r\n",
    "```python\r\n",
    "case.design  \\\r\n",
    "    .add_unknown('pipe.diameter')  \\  # value shared with all points\r\n",
    "    .add_equation('pipe.flow_in.W == 50')  # Constraint equation\r\n",
    "\r\n",
    "case.offdesign  \\\r\n",
    "    .add_unknown('pedal.angle')  \\  # value pertains to current point only\r\n",
    "    .add_equation('outlet.pressure == p_atm')  # Constraint equation\r\n",
    "```\r\n",
    "\r\n",
    "Note that `case.add_unknown` and `case.add_equation` are shortcuts to `case.offdesign.add_unknown` and `case.offdesign.add_equation`, respectively.\r\n",
    "\r\n",
    "Unknowns and equations defined at system `setup` define global *off-design* constraints.\r\n",
    "Such problems are usually imposed by physics (continuity conditions, conservation laws, *etc.*), and apply to all `RunSingleCase` drivers.\r\n",
    "\r\n",
    "The good practice is to have by default the system operating in off-design condition, and introduce design methods to design it (see [tutorial on design methods](11-DesignMethods.ipynb)).\r\n",
    "\r\n",
    "Some systems may impose off-design equations without declaring off-design unknowns, and *vice versa*.\r\n",
    "It is up to the user to close the mathematical problem by providing appropriate degrees of freedom and constraints, when required.\r\n",
    "\r\n",
    "Ultimately, the solver will check if the mathematical system is square before solving it."
   ],
   "metadata": {}
  },
  {
   "cell_type": "code",
   "execution_count": null,
   "source": [
    "m.drivers.clear() # Remove all drivers on the system `m`\r\n",
    "solver = m.add_driver(NonLinearSolver('solver'))\r\n",
    "update = solver.add_child(RunSingleCase('update'))\r\n",
    "\r\n",
    "# Customization of the case\r\n",
    "update.set_values({'expected_output': 15})\r\n",
    "\r\n",
    "# Execution\r\n",
    "m.run_drivers()\r\n",
    "\r\n",
    "print(\r\n",
    "    \"Off-design default\",\r\n",
    "    f\"K1 = {m.K1}\",\r\n",
    "    f\"p_in.x = {m.p_in.x}\",\r\n",
    "    f\"p_out.x = {m.p_out.x}\",\r\n",
    "    sep=\"\\n\"\r\n",
    ")"
   ],
   "outputs": [],
   "metadata": {}
  },
  {
   "cell_type": "markdown",
   "source": [
    "Design methods are defined at system level, and can be activated on demand in a simulation (more info in the [Design Method tutorial](./11-DesignMethods.ipynb))."
   ],
   "metadata": {}
  },
  {
   "cell_type": "code",
   "execution_count": null,
   "source": [
    "class MultiplyWithDesignMethod(System):\r\n",
    "\r\n",
    "    def setup(self):\r\n",
    "        self.add_input(XPort, 'p_in', {'x': 1.})\r\n",
    "        self.add_output(XPort, 'p_out', {'x': 1.})\r\n",
    "\r\n",
    "        self.add_inward('K1', 5.)\r\n",
    "        \r\n",
    "        # Off-design default\r\n",
    "        self.add_inward('expected_output', 7.5)\r\n",
    "        self.add_unknown('p_in.x').add_equation('p_out.x == expected_output')\r\n",
    "\r\n",
    "        # Design methods\r\n",
    "        self.add_inward('dx_design', 1.0)        \r\n",
    "        self.add_design_method('dx').add_unknown('K1').add_equation('p_out.x - p_in.x == dx_design')\r\n",
    "\r\n",
    "    def compute(self):\r\n",
    "        self.p_out.x = self.p_in.x * self.K1\r\n",
    "\r\n",
    "\r\n",
    "from cosapp.recorders import DataFrameRecorder\r\n",
    "\r\n",
    "m = MultiplyWithDesignMethod('m')\r\n",
    "m.expected_output = 7.5\r\n",
    "\r\n",
    "solver = m.add_driver(NonLinearSolver('solver', tol=1e-12))\r\n",
    "solver.add_recorder(DataFrameRecorder(includes=['K1', 'p_*.x', 'expected*']))\r\n",
    "\r\n",
    "# Design\r\n",
    "design = solver.add_child(RunSingleCase('design'))\r\n",
    "design.set_values({\r\n",
    "    'expected_output': 7.5,\r\n",
    "    'dx_design': 5,\r\n",
    "})\r\n",
    "design.design.extend(m.design_methods['dx'])\r\n",
    "\r\n",
    "m.run_drivers()\r\n",
    "\r\n",
    "print(\r\n",
    "    \"Design:\",\r\n",
    "    f\"K1 = {m.K1}\",\r\n",
    "    f\"p_in.x = {m.p_in.x}\",\r\n",
    "    f\"p_out.x = {m.p_out.x}\",\r\n",
    "    sep=\"\\n\"\r\n",
    ")\r\n",
    "print(solver.problem)"
   ],
   "outputs": [],
   "metadata": {}
  },
  {
   "cell_type": "markdown",
   "source": [
    "`RunSingleCase` drivers may also be used to simulate a life cycle made of states. On next example, a design point is followed by two off-design operating points. \r\n",
    "\r\n",
    "![metadriver](images/drivers_5.svg)"
   ],
   "metadata": {}
  },
  {
   "cell_type": "code",
   "execution_count": null,
   "source": [
    "# Off-design 1\r\n",
    "offdesign1 = solver.add_child(RunSingleCase('offdesign1'))\r\n",
    "offdesign1.set_values({'expected_output': 15.})\r\n",
    "\r\n",
    "# Off-design 2\r\n",
    "offdesign2 = solver.add_child(RunSingleCase('offdesign2'))\r\n",
    "offdesign2.set_values({'expected_output': 24.})\r\n",
    "\r\n",
    "m.run_drivers()\r\n",
    "\r\n",
    "df = solver.recorder.export_data()  # export recorded data as a pandas DataFrame\r\n",
    "df"
   ],
   "outputs": [],
   "metadata": {}
  },
  {
   "cell_type": "markdown",
   "source": [
    "For advanced design methods tutorial and strategy to create a \"design model\" from a \"simulation model\", we recommend the tutorial on [Design Methods](./11-DesignMethods.ipynb).\n",
    "\n",
    "**Congrats!** You are now ready to launch computation on your `System` with **CoSApp**!"
   ],
   "metadata": {}
  }
 ],
 "metadata": {
  "kernelspec": {
   "display_name": "Python 3",
   "language": "python",
   "name": "python3"
  },
  "language_info": {
   "codemirror_mode": {
    "name": "ipython",
    "version": 3
   },
   "file_extension": ".py",
   "mimetype": "text/x-python",
   "name": "python",
   "nbconvert_exporter": "python",
   "pygments_lexer": "ipython3",
   "version": "3.7.9"
  }
 },
 "nbformat": 4,
 "nbformat_minor": 4
}