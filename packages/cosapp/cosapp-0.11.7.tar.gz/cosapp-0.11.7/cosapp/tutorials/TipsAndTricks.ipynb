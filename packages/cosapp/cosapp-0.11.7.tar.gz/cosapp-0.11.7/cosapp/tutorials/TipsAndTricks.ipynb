{
 "cells": [
  {
   "cell_type": "markdown",
   "source": [
    "![CoSAppLogo](images/cosapp.svg) **CoSApp** examples"
   ],
   "metadata": {}
  },
  {
   "cell_type": "markdown",
   "source": [
    "# Tips & Tricks"
   ],
   "metadata": {}
  },
  {
   "cell_type": "markdown",
   "source": [
    "## Purge all drivers from a system\r\n",
    "\r\n",
    "Often necessary to start off a new, clean simulation workflow.\r\n",
    "\r\n",
    "Drivers are stored in a plain dictionary `drivers`.\r\n",
    "Thus, cleaning all drivers from system `s` is as simple as\r\n",
    "```python\r\n",
    "s.drivers.clear()\r\n",
    "```"
   ],
   "metadata": {}
  },
  {
   "cell_type": "markdown",
   "source": [
    "## Set targets on output values\r\n",
    "\r\n",
    "See [tutorial](Targets.ipynb) on method `add_target`."
   ],
   "metadata": {}
  },
  {
   "cell_type": "markdown",
   "source": [
    "## Loop through all elements in a composite system tree\r\n",
    "\r\n",
    "Browsing through composite trees is usually tackled with recursive functions.\r\n",
    "However, writing such functions can sometimes be tricky.\r\n",
    "\r\n",
    "As of version 0.11.7, a recursive iterator makes it very easy to loop through system or driver trees.\r\n",
    "```python\r\n",
    "system = SomeComplexSystem('system')\r\n",
    "\r\n",
    "for elem in system.tree():\r\n",
    "    # do whatever\r\n",
    "```\r\n",
    "This functionality might come handy if one wishes to collect data from all sub-systems, say."
   ],
   "metadata": {}
  },
  {
   "cell_type": "code",
   "execution_count": null,
   "source": [
    "from cosapp.systems import System\r\n",
    "\r\n",
    "a = System('a')\r\n",
    "# First layer\r\n",
    "a.add_child(System('aa'))\r\n",
    "a.add_child(System('ab'))\r\n",
    "# Second layer\r\n",
    "a.ab.add_child(System('aba'))\r\n",
    "a.ab.add_child(System('abb'))\r\n",
    "a.ab.add_child(System('abc'))\r\n",
    "\r\n",
    "print([elem.name for elem in a.tree()])"
   ],
   "outputs": [],
   "metadata": {}
  },
  {
   "cell_type": "markdown",
   "source": [
    "`System.tree()` accepts optional argument `downwards`, which determines whether the iterator should yield elements from top to bottom (`downwards=True`), or from bottom to top (`downwards=False` - default behaviour)."
   ],
   "metadata": {}
  },
  {
   "cell_type": "code",
   "execution_count": null,
   "source": [
    "print([elem.name for elem in a.tree(downwards=True)])"
   ],
   "outputs": [],
   "metadata": {}
  },
  {
   "cell_type": "markdown",
   "source": [
    "Note that the iterator follows the execution order of all elements in the tree:"
   ],
   "metadata": {}
  },
  {
   "cell_type": "code",
   "execution_count": null,
   "source": [
    "print([elem.name for elem in a.tree()])\r\n",
    "\r\n",
    "a.exec_order = ['ab', 'aa']\r\n",
    "a.ab.exec_order = ['abc', 'aba', 'abb']\r\n",
    "print([elem.name for elem in a.tree()])"
   ],
   "outputs": [],
   "metadata": {}
  },
  {
   "cell_type": "markdown",
   "source": [
    "## Synchronize sub-system inputs\r\n",
    "\r\n",
    "Inputs/inwards of a system specify the necessary information for local execution of the system.\r\n",
    "Very often, though, inputs of two or more sub-systems must take the same value, in the context of their parent assembly.\r\n",
    "\r\n",
    "For instance, consider a system `PlaneWing` with inward `length`.\r\n",
    "When gathered in a higher-level system `Airplane` as `left_wing` and `right_wing`, it may be desirable to force both wings to have the same length, by construction.\r\n",
    "\r\n",
    "Such input synchronization is natively handled by CoSApp through the pulling mechanism:\r\n",
    "```python\r\n",
    "class Airplane(System):\r\n",
    "    def setup(self):\r\n",
    "        self.add_child(PlaneWing('left_wing', pulling={'length': 'wing_length'}))\r\n",
    "        self.add_child(PlaneWing('right_wing', pulling={'length': 'wing_length'}))\r\n",
    "```\r\n",
    "\r\n",
    "### Explaination:\r\n",
    "Pulling an input/inward creates a parent-to-child *downward* connector.\r\n",
    "Thus, the first `add_child` statement will create new inward `wing_length` on the fly, as well as a connector `wing_length -> left_wing.length`.\r\n",
    "When the right wing sub-system is created, a second connector `wing_length -> right_wing.length` is generated, using existing inward `wing_length`.\r\n",
    "```python\r\n",
    "plane = Airplane('plane')\r\n",
    "\r\n",
    "plane.wing_length = 12.3\r\n",
    "plane.run_once()  # will propagate `wing_length` to both wings\r\n",
    "```\r\n",
    "### Notes\r\n",
    "* Connectors only transfer information when `run_once()` or `run_drivers()` is invoked.\r\n",
    "* Any value directly assigned to `plane.left_wing.length`, say, will be eventually superseded by `plane.wing_length` at each model execution.\r\n",
    "* Renaming pulled inputs/inwards at parent level is not mandatory. Passing a list of attribute names rather than a dictionary as `pulling` argument will trigger the same mechanisms, with no name changes. In the example above, it is just more explicit to expose inward `wing_length` rather than just `length` in the context of the airplane."
   ],
   "metadata": {}
  },
  {
   "cell_type": "markdown",
   "source": [
    "## Create collections of sub-systems and/or ports in systems\r\n",
    "\r\n",
    "Consider an arbitrary number of resistors in series, modeled as an assembly of subsystems `R1`, `R2`, *etc.*\r\n",
    "\r\n",
    "In this case, the number of resistors `n` is provided at `setup`, and the `n` resistors are created with a loop of the kind:\r\n",
    "```python\r\n",
    "    def setup(self, n=2):\r\n",
    "        for i in range(n)\r\n",
    "            self.add_child(Resistor(f\"R{i}\"))\r\n",
    "```\r\n",
    "While this is creation loop is unavoidable, it can be interesting to get an attribute storing all resistors as an iterable collection.\r\n",
    "\r\n",
    "One can pull this trick using method `add_property`, as illustrated below:"
   ],
   "metadata": {}
  },
  {
   "cell_type": "code",
   "execution_count": null,
   "source": [
    "from cosapp.ports import Port\r\n",
    "from cosapp.systems import System\r\n",
    "\r\n",
    "class ElecPort(Port):\r\n",
    "    def setup(self):\r\n",
    "        self.add_variable(\"I\", 1.0, unit=\"A\", desc=\"Current\")\r\n",
    "        self.add_variable(\"V\", 0.0, unit=\"V\", desc=\"Voltage\")\r\n",
    "\r\n",
    "class Resistor(System):\r\n",
    "    def setup(self):\r\n",
    "        self.add_input(ElecPort, 'elec_in')\r\n",
    "        self.add_output(ElecPort, 'elec_out')\r\n",
    "        self.add_inward(\"R\", 1e2, unit=\"ohm\", desc=\"Resistance\")\r\n",
    "    \r\n",
    "    def compute(self):\r\n",
    "        self.elec_out.I = I = self.elec_in.I\r\n",
    "        self.elec_out.V = self.elec_in.V - self.R * I\r\n",
    "\r\n",
    "class ResistorSeries(System):\r\n",
    "    def setup(self, n=2):\r\n",
    "        self.add_property('n', max(int(n), 2))\r\n",
    "\r\n",
    "        # Create a tuple of children, and store it as a property\r\n",
    "        self.add_property('resistors', tuple(\r\n",
    "            self.add_child(Resistor(f\"R{i}\"))\r\n",
    "            for i in range(self.n)\r\n",
    "        ))\r\n",
    "        R = self.resistors\r\n",
    "        \r\n",
    "        for previous, current in zip(R, R[1:]):\r\n",
    "            self.connect(current.elec_in, previous.elec_out)\r\n",
    "\r\n",
    "        # Pull first `elec_in` and last `elec_out`\r\n",
    "        self.add_input(ElecPort, 'elec_in')\r\n",
    "        self.add_output(ElecPort, 'elec_out')\r\n",
    "\r\n",
    "        self.connect(self.elec_in, R[0].elec_in)\r\n",
    "        self.connect(self.elec_out, R[-1].elec_out)\r\n",
    "\r\n"
   ],
   "outputs": [],
   "metadata": {}
  },
  {
   "cell_type": "markdown",
   "source": [
    "The same trick can be used to create collections of ports, if needed.\r\n",
    "\r\n",
    "Use of property `resistors` makes the code clearer, and allows one to loop through the child/port collection without resorting to syntaxes of the kind `s[f\"R{i}\"] for i in range(s.n)`.\r\n",
    "\r\n",
    "In the next cell, for example, we show two identical ways of initializing the resistances:"
   ],
   "metadata": {}
  },
  {
   "cell_type": "code",
   "execution_count": null,
   "source": [
    "s = ResistorSeries('s', n=5)\r\n",
    "\r\n",
    "for res in s.resistors:\r\n",
    "    res.R = 1.25e3\r\n",
    "\r\n",
    "# instead of:\r\n",
    "for i in range(s.n):\r\n",
    "    s[f\"R{i}\"].R = 1.25e3"
   ],
   "outputs": [],
   "metadata": {}
  },
  {
   "cell_type": "markdown",
   "source": [
    "Note in particular that the first expression, apart from being much simpler, is also more robust to name changes in `ResistorSeries`, as we do not need to know the naming convention of sub-systems (`R1`, `R2`, *etc.*), and of their total number `n`."
   ],
   "metadata": {}
  },
  {
   "cell_type": "markdown",
   "source": [
    "System properties are immutable by nature, so `resistors` cannot be redefined. Furthermore, use of `tuple` garanties that each individual element of the collection is also immutable, which is exactly what we wish to achieve here."
   ],
   "metadata": {}
  },
  {
   "cell_type": "code",
   "execution_count": null,
   "source": [
    "import logging\r\n",
    "\r\n",
    "# Check that resistors cannot be individually reassigned:\r\n",
    "try:\r\n",
    "    s.resistors[0] = None\r\n",
    "\r\n",
    "except Exception as error:\r\n",
    "    logging.exception(error)\r\n"
   ],
   "outputs": [],
   "metadata": {}
  },
  {
   "cell_type": "markdown",
   "source": [
    "## Write alternative ways to create a system\r\n",
    "\r\n",
    "Consider a system class containing a 2D numpy array, which we would like to define from local data or from a file.\r\n",
    "In the next cell, we show a first, awkward implementation, where all parameters are provided to the `setup` method, and different courses of action are decided, depending on data type.\r\n"
   ],
   "metadata": {}
  },
  {
   "cell_type": "code",
   "execution_count": null,
   "source": [
    "from cosapp.systems import System\r\n",
    "import numpy\r\n",
    "\r\n",
    "class MySystem(System):\r\n",
    "    def setup(self, n: int, **options):\r\n",
    "        self.add_property('n', int(n))\r\n",
    "\r\n",
    "        self.add_inward('x', numpy.zeros((self.n, 3)))\r\n",
    "\r\n",
    "        # Get data from array\r\n",
    "        try:\r\n",
    "            x = options['x']\r\n",
    "        except KeyError:\r\n",
    "            pass\r\n",
    "        else:\r\n",
    "            if numpy.shape(x) == self.x.shape:\r\n",
    "                self.x = numpy.copy(x)\r\n",
    "        # Get data from file\r\n",
    "        try:\r\n",
    "            filename = options['filename']\r\n",
    "        except KeyError:\r\n",
    "            pass\r\n",
    "        else:\r\n",
    "            x = numpy.load(filename)\r\n",
    "            if x.shape == self.x.shape:\r\n",
    "                self.x = x\r\n",
    "        # And so on..."
   ],
   "outputs": [],
   "metadata": {}
  },
  {
   "cell_type": "code",
   "execution_count": null,
   "source": [
    "s = MySystem('s', n=2, x=[[0, 0.1, 0.2], [-0.5, 0.9, 0.4]])\r\n",
    "\r\n",
    "print(s.x)"
   ],
   "outputs": [],
   "metadata": {}
  },
  {
   "cell_type": "markdown",
   "source": [
    "The complexity of parsing through options at `setup` can be simplified using ad-hoc functions referred to as *factories*, declared as class methods by decorator `@classmethod`.\r\n",
    "Note that the first argument of class methods is always `cls` (as opposed to `self` for traditional object methods), denoting the class itself.\r\n",
    "Factories are special class method whose job is to create and return a new class instance (an object) from a specific set of arguments.\r\n",
    "\r\n",
    "Class methods are invoked with syntax `ClassName.method_name(...)`.\r\n",
    "\r\n",
    "In the next cell, we implement factory methods `from_data` and `from_file`, each with its own signature:\r\n"
   ],
   "metadata": {}
  },
  {
   "cell_type": "code",
   "execution_count": null,
   "source": [
    "from cosapp.systems import System\r\n",
    "import numpy\r\n",
    "\r\n",
    "class MySystem(System):\r\n",
    "    def setup(self, n: int):\r\n",
    "        self.add_property('n', int(n))\r\n",
    "        self.add_inward('x', numpy.zeros((self.n, 3)))\r\n",
    "\r\n",
    "    @classmethod\r\n",
    "    def from_data(cls, name: str, data) -> \"MySystem\":\r\n",
    "        n = cls.check_shape(data)\r\n",
    "        s = cls(name, n=n)  # newly created system\r\n",
    "        s.x = numpy.array(data, dtype=float)\r\n",
    "        return s\r\n",
    "\r\n",
    "    @classmethod\r\n",
    "    def from_file(cls, name: str, filename) -> \"MySystem\":\r\n",
    "        data = numpy.load(filename)\r\n",
    "        return cls.from_data(name, data)\r\n",
    "\r\n",
    "    @staticmethod\r\n",
    "    def check_shape(data) -> int:\r\n",
    "        \"\"\"Checks that `data` is a (N x 3) array-like object.\r\n",
    "        If so, returns integer N. If not, raises `ValueError`.\r\n",
    "        \"\"\"\r\n",
    "        shape = numpy.shape(data)\r\n",
    "        ok = len(shape) == 2 and shape[1] == 3\r\n",
    "        if not ok:\r\n",
    "            raise ValueError(\"data must be a (N x 3) array-like object\")\r\n",
    "        return shape[0]\r\n"
   ],
   "outputs": [],
   "metadata": {}
  },
  {
   "cell_type": "code",
   "execution_count": null,
   "source": [
    "s1 = MySystem('s1', n=4)  # usual way\r\n",
    "print(f\"s1.x =\\n{s1.x}\")\r\n",
    "\r\n",
    "# Create a system from existing data with `from_data`\r\n",
    "s2 = MySystem.from_data('s2', [[0, 0.1, 0.2], [-0.5, 0.9, 0.4]])\r\n",
    "print(f\"\\ns2.x =\\n{s2.x}\")"
   ],
   "outputs": [],
   "metadata": {}
  },
  {
   "cell_type": "code",
   "execution_count": null,
   "source": [
    "import logging\r\n",
    "\r\n",
    "try:\r\n",
    "    s3 = MySystem.from_file('s3', 'data.pickle')\r\n",
    "\r\n",
    "except Exception as error:\r\n",
    "    logging.error(\r\n",
    "        f\" {type(error).__name__}: {error}\"\r\n",
    "        f\"\\nDoes not work for s3 since the file does not exist, but you get the idea!\"\r\n",
    "    )\r\n",
    "else:\r\n",
    "    print(f\"\\ns3.x =\\n{s3.x}\")\r\n"
   ],
   "outputs": [],
   "metadata": {}
  },
  {
   "cell_type": "markdown",
   "source": [],
   "metadata": {}
  }
 ],
 "metadata": {
  "orig_nbformat": 4,
  "language_info": {
   "name": "python"
  }
 },
 "nbformat": 4,
 "nbformat_minor": 2
}