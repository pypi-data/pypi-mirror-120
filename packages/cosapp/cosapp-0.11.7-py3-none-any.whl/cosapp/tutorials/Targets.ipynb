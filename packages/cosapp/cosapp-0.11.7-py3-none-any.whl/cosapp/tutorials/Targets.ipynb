{
 "cells": [
  {
   "cell_type": "markdown",
   "source": [
    "![CoSAppLogo](images/cosapp.svg) **CoSApp** examples:"
   ],
   "metadata": {
    "nbsphinx": "hidden"
   }
  },
  {
   "cell_type": "markdown",
   "source": [
    "# Settings targets on output values\r\n",
    "\r\n",
    "CoSApp systems declare a directional interface, and transform inputs into outputs.\r\n",
    "The good practice consist in designing systems such that their inputs and outputs correcpond to the \"normal\", direct behaviour of the system, without presuming how it will be used in a more complex assembly, or what users will want to do with it.\r\n",
    "\r\n",
    "As it happens, it is very common to use a given system in a reverse way, when one wishes certain outputs to reach a target value.\r\n",
    "\r\n",
    "The first obvious way to achieve that is to setup a nonlinear problem, whereby an input is sought to satisfy an equation of the kind \"target_output == target_value\"."
   ],
   "metadata": {}
  },
  {
   "cell_type": "code",
   "execution_count": null,
   "source": [
    "from cosapp.systems import System\r\n",
    "\r\n",
    "class SimpleFunction(System):\r\n",
    "    def setup(self):\r\n",
    "        self.add_inward('a', 0.0)\r\n",
    "        self.add_inward('x', 1.0)\r\n",
    "        self.add_outward('y', 0.0)\r\n",
    "    \r\n",
    "    def compute(self) -> None:\r\n",
    "        self.y = self.x**2 - self.a\r\n"
   ],
   "outputs": [],
   "metadata": {}
  },
  {
   "cell_type": "code",
   "execution_count": null,
   "source": [
    "from cosapp.drivers import NonLinearSolver\r\n",
    "\r\n",
    "f = SimpleFunction('f')\r\n",
    "\r\n",
    "solver = f.add_driver(NonLinearSolver('solver', tol=1e-9))\r\n",
    "solver.add_unknown('x').add_equation('y == 0')\r\n",
    "\r\n",
    "f.a = 2.0\r\n",
    "f.run_drivers()\r\n",
    "\r\n",
    "print(\r\n",
    "    f\"f.x = {f.x}\",\r\n",
    "    f\"f.y = {f.y}\",\r\n",
    "    sep = \"\\n\",\r\n",
    ")"
   ],
   "outputs": [],
   "metadata": {}
  },
  {
   "cell_type": "markdown",
   "source": [
    "Displaying attribute `solver.problem` reveals the mathematical problem solved by the driver:"
   ],
   "metadata": {}
  },
  {
   "cell_type": "code",
   "execution_count": null,
   "source": [
    "solver.problem"
   ],
   "outputs": [],
   "metadata": {}
  },
  {
   "cell_type": "markdown",
   "source": [
    "## Set target value dynamically\r\n",
    "\r\n",
    "In the previous example, the target value for `f.y` is hard-coded as the right-hand side of the design equation.\r\n",
    "Changing this value requires the setup of a new mathematical problem, with a new equation.\r\n",
    "\r\n",
    "An alternative way is to this procedure is the use of method `add_target`:"
   ],
   "metadata": {}
  },
  {
   "cell_type": "code",
   "execution_count": null,
   "source": [
    "from cosapp.drivers import NonLinearSolver\r\n",
    "\r\n",
    "f = SimpleFunction('f')\r\n",
    "\r\n",
    "solver = f.add_driver(NonLinearSolver('solver', tol=1e-9))\r\n",
    "solver.add_unknown('x').add_target('y')\r\n",
    "\r\n",
    "f.a = 2.0\r\n",
    "f.y = 0.0   # set target value by setting output variable\r\n",
    "f.run_drivers()\r\n",
    "\r\n",
    "print(\r\n",
    "    f\"f.x = {f.x}\",\r\n",
    "    f\"f.y = {f.y}\",\r\n",
    "    sep = \"\\n\",\r\n",
    ")"
   ],
   "outputs": [],
   "metadata": {}
  },
  {
   "cell_type": "markdown",
   "source": [
    "Job done!\r\n",
    "Looking at attribute `problem` shows that the actual mathematical problem has not changed:"
   ],
   "metadata": {}
  },
  {
   "cell_type": "code",
   "execution_count": null,
   "source": [
    "solver.problem"
   ],
   "outputs": [],
   "metadata": {}
  },
  {
   "cell_type": "markdown",
   "source": [
    "The difference, however, is that the right-hand side of the equation is now dynamically set to the current value of `f.y` before each solver execution.\r\n",
    "Therefore, we can now update the target value interactively, by simply assigning a new value to `f.y`:"
   ],
   "metadata": {}
  },
  {
   "cell_type": "code",
   "execution_count": null,
   "source": [
    "f.y = -0.5  # update target value dynamically\r\n",
    "\r\n",
    "f.run_drivers()\r\n",
    "\r\n",
    "print(\r\n",
    "    f\"f.x = {f.x}\",\r\n",
    "    f\"f.y = {f.y}\",\r\n",
    "    sep = \"\\n\",\r\n",
    ")"
   ],
   "outputs": [],
   "metadata": {}
  },
  {
   "cell_type": "markdown",
   "source": [
    "As can be seen after each computation, `f.y` only reaches the targetted value *within solver tolerance*.\r\n",
    "Indeed, if `add_target` offers a convenient way of defining target values, one must keep in mind that `f.y` remains an output, whose value is strictly determined by the actual inputs of `f`.\r\n",
    "\r\n",
    "As a consequence, it is up to users to control the value of targetted variables *before each solver execution*."
   ],
   "metadata": {}
  },
  {
   "cell_type": "markdown",
   "source": [
    "## Targets and design methods\r\n",
    "\r\n",
    "Targets can be particularly interesting to define [design methods](11-DesignMethods.ipynb) with a controllable target value."
   ],
   "metadata": {}
  },
  {
   "cell_type": "code",
   "execution_count": null,
   "source": [
    "from cosapp.systems import System\r\n",
    "\r\n",
    "class SimpleFunctionWithDesign(System):\r\n",
    "    def setup(self):\r\n",
    "        self.add_inward('a', 0.0)\r\n",
    "        self.add_inward('x', 1.0)\r\n",
    "        self.add_outward('y', 0.0)\r\n",
    "\r\n",
    "        design = self.add_design_method('y')\r\n",
    "        design.add_unknown('x').add_target('y')\r\n",
    "    \r\n",
    "    def compute(self) -> None:\r\n",
    "        self.y = self.x**2 - self.a\r\n"
   ],
   "outputs": [],
   "metadata": {}
  },
  {
   "cell_type": "code",
   "execution_count": null,
   "source": [
    "from cosapp.drivers import NonLinearSolver\r\n",
    "\r\n",
    "f = SimpleFunctionWithDesign('f')\r\n",
    "\r\n",
    "solver = f.add_driver(NonLinearSolver('solver', tol=1e-9))\r\n",
    "solver.extend(f.design_methods['y'])\r\n",
    "\r\n",
    "f.a = 2.0\r\n",
    "f.y = -0.5\r\n",
    "f.run_drivers()\r\n",
    "\r\n",
    "print(\r\n",
    "    f\"f.x = {f.x}\",\r\n",
    "    f\"f.y = {f.y}\",\r\n",
    "    sep = \"\\n\",\r\n",
    ")"
   ],
   "outputs": [],
   "metadata": {}
  },
  {
   "cell_type": "markdown",
   "source": [
    "Without the use of `add_target`, the only way to control the design value of `y` would be to declare an additional inward `y_target`, say, used as right-hand side value of design equation:\r\n",
    "```python\r\n",
    "    def setup(self):\r\n",
    "        self.add_inward('a', 0.0)\r\n",
    "        self.add_inward('x', 1.0)\r\n",
    "        self.add_outward('y', 0.0)\r\n",
    "\r\n",
    "        design = self.add_design_method('y')\r\n",
    "        self.add_inward('y_target', 0.0)\r\n",
    "        design.add_unknown('x').add_equation('y == y_target')\r\n",
    "```\r\n",
    "\r\n",
    "While this syntax works, it has the inconvenience of burdening the system with an inward only meaningful when design method `'y'` is activated."
   ],
   "metadata": {}
  },
  {
   "cell_type": "markdown",
   "source": [
    "## Pulling a targetted variable\r\n",
    "\r\n",
    "Consider a system with a targetted output pulled at parent level.\r\n"
   ],
   "metadata": {}
  },
  {
   "cell_type": "code",
   "execution_count": null,
   "source": [
    "class Composite(System):\r\n",
    "    def setup(self):\r\n",
    "        f = self.add_child(SimpleFunction('f'), pulling='x')\r\n",
    "        g = self.add_child(SimpleFunctionWithDesign('g'), pulling='y')\r\n",
    "\r\n",
    "        self.connect(f.outwards, g.inwards, {'y': 'a'})  # f.y -> g.a\r\n",
    "\r\n",
    "        # Promote design method of `g` at parent level\r\n",
    "        # Note:\r\n",
    "        #   g.design('y') is the same as g.design_methods['y']\r\n",
    "        self.add_design_method('y').extend(g.design('y'))"
   ],
   "outputs": [],
   "metadata": {}
  },
  {
   "cell_type": "code",
   "execution_count": null,
   "source": [
    "head = Composite('head')\r\n",
    "\r\n",
    "solver = head.add_driver(NonLinearSolver('solver', tol=1e-9))\r\n",
    "\r\n",
    "solver.extend(head.design('y'))\r\n",
    "\r\n",
    "head.x = 3.0\r\n",
    "head.g.y = 5.0\r\n",
    "head.f.a = 2.0\r\n",
    "\r\n",
    "head.run_drivers()\r\n",
    "\r\n",
    "print(\r\n",
    "    f\"Solution:\\n\"\r\n",
    "    f\"head.g.x = {head.g.x}\",\r\n",
    "    f\"head.g.y = {head.g.y}\",\r\n",
    "    f\"\\n{solver.problem!r}\",\r\n",
    "    sep = \"\\n\",\r\n",
    ")"
   ],
   "outputs": [],
   "metadata": {}
  },
  {
   "cell_type": "markdown",
   "source": [
    "What just happened?!\r\n",
    "\r\n",
    "In this case, output `head.g.y` is pulled up at parent level. Behind the scene, an *upward* connection is created from `head.g.y` to `head.y`, such that `y` appears as a natural output of top system `head`, computed by sub-system `head.g`.\r\n",
    "\r\n",
    "As a consequence, it seems natural to set the targetted value in the context of system `head`, that is setting `head.y` instead of `head.g.y`, when activating `head.design('y')`.\r\n",
    "Let's try again:"
   ],
   "metadata": {}
  },
  {
   "cell_type": "code",
   "execution_count": null,
   "source": [
    "head = Composite('head')\r\n",
    "\r\n",
    "solver = head.add_driver(NonLinearSolver('solver', tol=1e-9))\r\n",
    "\r\n",
    "solver.extend(head.design('y'))  # activates a target on `head.y`\r\n",
    "\r\n",
    "head.x = 3.0\r\n",
    "head.y = 5.0    # set target value\r\n",
    "head.f.a = 2.0\r\n",
    "\r\n",
    "head.run_drivers()\r\n",
    "\r\n",
    "print(\r\n",
    "    f\"Solution:\\n\"\r\n",
    "    f\"head.g.x = {head.g.x}\",\r\n",
    "    f\"head.g.y = {head.g.y}\",\r\n",
    "    f\"\\n{solver.problem!r}\",\r\n",
    "    sep = \"\\n\",\r\n",
    ")"
   ],
   "outputs": [],
   "metadata": {}
  },
  {
   "cell_type": "markdown",
   "source": [
    "## Weak and strong targets\r\n",
    "\r\n",
    "A target is said to be *weak* if it can be disregarded in certain situations.\r\n",
    "By default, targets are *strong*, meaning the target equation is always enforced.\r\n",
    "\r\n",
    "A weak target is discarded if the targetted variable\r\n",
    "1. is an output;\r\n",
    "2. is connected to an input.\r\n",
    "\r\n",
    "The second condition specifically excludes pulled outputs, which is the only admissible output-output connection.\r\n",
    "\r\n",
    "Weak targets may be useful when a targetted variable is transmitted through a chain of systems, and one wants to specify the target on the last system only.\r\n",
    "This is typically the case in the next example, where we simulate three resistors series, and wish to determine the current between end-point voltages.\r\n"
   ],
   "metadata": {}
  },
  {
   "cell_type": "code",
   "execution_count": null,
   "source": [
    "from cosapp.ports import Port\r\n",
    "\r\n",
    "class ElectricPort(Port):\r\n",
    "    def setup(self):\r\n",
    "        self.add_variable(\"I\", 1.0, unit=\"A\", desc=\"Current\")\r\n",
    "        self.add_variable(\"V\", 0.0, unit=\"V\", desc=\"Voltage\")\r\n",
    "\r\n",
    "class Resistor(System):\r\n",
    "    def setup(self):\r\n",
    "        self.add_input(ElectricPort, 'elec_in')\r\n",
    "        self.add_output(ElectricPort, 'elec_out')\r\n",
    "\r\n",
    "        self.add_inward(\"R\", 1e2, unit=\"ohm\", desc=\"Resistance\")\r\n",
    "        self.add_outward(\"deltaV\", 0.0, unit=\"V\")\r\n",
    "\r\n",
    "        # Off-design constraint: compute current to reach target voltage\r\n",
    "        self.add_unknown(\"elec_in.I\").add_target(\"elec_out.V\", weak=True)\r\n",
    "    \r\n",
    "    def compute(self):\r\n",
    "        elec_in, elec_out = self.elec_in, self.elec_out\r\n",
    "        self.deltaV = self.R * elec_in.I\r\n",
    "        elec_out.I = elec_in.I\r\n",
    "        elec_out.V = elec_in.V - self.deltaV\r\n",
    "\r\n",
    "class ThreeResistorSeries(System):\r\n",
    "    def setup(self):\r\n",
    "        R1 = self.add_child(Resistor(\"R1\"), pulling=\"elec_in\")\r\n",
    "        R2 = self.add_child(Resistor(\"R2\"))\r\n",
    "        R3 = self.add_child(Resistor(\"R3\"), pulling=\"elec_out\")\r\n",
    "        \r\n",
    "        self.connect(R1.elec_out, R2.elec_in)\r\n",
    "        self.connect(R2.elec_out, R3.elec_in)\r\n"
   ],
   "outputs": [],
   "metadata": {}
  },
  {
   "cell_type": "markdown",
   "source": [
    "Each resistor defines an inner off-design problem, in which current is unknown, and a target is set on the output voltage.\r\n",
    "When several resistors are connected, local unknown currents are discarded every time they belong to a connected input port, which occurs at each node point connecting adjacent resistors.\r\n",
    "Likewise, local weak targets on voltages are discarded at each connecting node, where output voltage is transmitted to the next resistor.\r\n",
    "\r\n",
    "Overall, one unknown (the incoming current into the first resistor, pulled as `elec_in.I`) and one target (the output voltage of the last resistor, pulled as `elec_out.V`) remain.\r\n"
   ],
   "metadata": {}
  },
  {
   "cell_type": "code",
   "execution_count": null,
   "source": [
    "s = ThreeResistorSeries('s')\r\n",
    "\r\n",
    "s.R1.R = 100\r\n",
    "s.R2.R = 50\r\n",
    "s.R3.R = 250\r\n",
    "\r\n",
    "s.elec_in.V = 10\r\n",
    "s.elec_out.V = -2\r\n",
    "\r\n",
    "# Set bogus target values at connection points\r\n",
    "# These values will be discarded, as targets are weak\r\n",
    "s.R1.elec_out.V = 1.23e4\r\n",
    "s.R2.elec_out.V = -8e17\r\n",
    "\r\n",
    "s.add_driver(NonLinearSolver('solver'))\r\n",
    "s.run_drivers()\r\n",
    "\r\n",
    "voltages = [s.elec_in.V]\r\n",
    "voltages.extend(s[f\"R{i}.elec_out.V\"] for i in range(1, 4))\r\n",
    "\r\n",
    "print(\r\n",
    "    f\"Solution:\\n\"\r\n",
    "    f\"s.elec_in.I = {s.elec_in.I}\",\r\n",
    "    f\"s.elec_in.V = {s.elec_in.V}\",\r\n",
    "    f\"s.elec_out.V = {s.elec_out.V}\",\r\n",
    "    f\"Voltages = {voltages}\",\r\n",
    "    f\"\\nOverall resistance: {(s.elec_in.V - s.elec_out.V) / s.elec_in.I :.2f} Ohm\",\r\n",
    "    sep = \"\\n\",\r\n",
    ")\r\n"
   ],
   "outputs": [],
   "metadata": {}
  },
  {
   "cell_type": "code",
   "execution_count": null,
   "source": [
    "s.drivers['solver'].problem"
   ],
   "outputs": [],
   "metadata": {}
  },
  {
   "cell_type": "code",
   "execution_count": null,
   "source": [
    "import pandas as pd\r\n",
    "import plotly.express as px\r\n",
    "\r\n",
    "df = pd.DataFrame.from_dict(\r\n",
    "    {\r\n",
    "        \"V\": voltages,\r\n",
    "        \"index\": list(range(len(voltages))),\r\n",
    "        \"node\": list('ABCD'),\r\n",
    "    }\r\n",
    ")\r\n",
    "\r\n",
    "fig = px.line(df, x=\"node\", y=\"V\",\r\n",
    "    title = \"Voltage profile\",\r\n",
    ")\r\n",
    "fig.update_layout(\r\n",
    "    height=450,\r\n",
    "    hovermode='x',\r\n",
    ")\r\n",
    "fig.show()"
   ],
   "outputs": [],
   "metadata": {}
  },
  {
   "cell_type": "markdown",
   "source": [
    "## Targetted expressions\r\n",
    "\r\n",
    "A target can also be set on an evaluable expression, such as `norm(v)` or `y * (y + 1)`, as long as the expression only involves a single variable."
   ],
   "metadata": {}
  },
  {
   "cell_type": "code",
   "execution_count": null,
   "source": [
    "class CubicFunction(System):\r\n",
    "    def setup(self):\r\n",
    "        self.add_inward('x', 1.0)\r\n",
    "        self.add_outward('y', 0.0)\r\n",
    "    \r\n",
    "    def compute(self) -> None:\r\n",
    "        self.y = self.x**3\r\n",
    "\r\n",
    "f = CubicFunction('f')\r\n",
    "\r\n",
    "solver = f.add_driver(NonLinearSolver('solver', tol=1e-9))\r\n",
    "\r\n",
    "solver.add_unknown('x').add_target('abs(y)')\r\n",
    "\r\n",
    "f.y = 8  # value used for targetted expression\r\n",
    "f.x = 4  # positive initial value of unknown\r\n",
    "f.run_drivers()\r\n",
    "\r\n",
    "print(\r\n",
    "    f\"f.x = {f.x}\",\r\n",
    "    f\"f.y = {f.y}\",\r\n",
    "    sep = \"\\n\",\r\n",
    ")"
   ],
   "outputs": [],
   "metadata": {}
  },
  {
   "cell_type": "markdown",
   "source": [
    "Same computation, with a different initial guess on `f.x`:"
   ],
   "metadata": {}
  },
  {
   "cell_type": "code",
   "execution_count": null,
   "source": [
    "f.y = 8\r\n",
    "f.x = -5  # negative initial value\r\n",
    "f.run_drivers()\r\n",
    "\r\n",
    "print(\r\n",
    "    f\"f.x = {f.x}\",\r\n",
    "    f\"f.y = {f.y}\",\r\n",
    "    sep = \"\\n\",\r\n",
    ")"
   ],
   "outputs": [],
   "metadata": {}
  },
  {
   "cell_type": "code",
   "execution_count": null,
   "source": [
    "import logging\r\n",
    "\r\n",
    "f = CubicFunction('f')\r\n",
    "\r\n",
    "solver = f.add_driver(NonLinearSolver('solver', tol=1e-9))\r\n",
    "\r\n",
    "try:\r\n",
    "    solver.add_unknown('x').add_target('2 * y + cos(pi * x)')\r\n",
    "except Exception as error:\r\n",
    "    logging.exception(error)\r\n"
   ],
   "outputs": [],
   "metadata": {}
  },
  {
   "cell_type": "markdown",
   "source": [],
   "metadata": {}
  }
 ],
 "metadata": {
  "language_info": {
   "name": "python",
   "pygments_lexer": "ipython3"
  }
 },
 "nbformat": 4,
 "nbformat_minor": 4
}