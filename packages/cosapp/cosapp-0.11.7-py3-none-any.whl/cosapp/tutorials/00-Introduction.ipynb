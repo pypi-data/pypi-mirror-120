{
 "cells": [
  {
   "cell_type": "markdown",
   "source": [
    "![CoSAppLogo](images/cosapp.svg)\r\n",
    "\r\n",
    "Welcome to <font color='orange'>**CoSApp**</font> Jupyter notebook tutorials!"
   ],
   "metadata": {}
  },
  {
   "cell_type": "markdown",
   "source": [
    "# Quickstart"
   ],
   "metadata": {}
  },
  {
   "cell_type": "markdown",
   "source": [
    "\r\n",
    "Get started with a [5 Minutes to CoSApp](quickstart.ipynb)."
   ],
   "metadata": {}
  },
  {
   "cell_type": "markdown",
   "source": [
    "# Tutorials"
   ],
   "metadata": {}
  },
  {
   "cell_type": "markdown",
   "source": [
    "## Fundamental objects\r\n",
    "\r\n",
    "In order to use CoSApp, you need to understand the 3 fundamental elements defining a model:\r\n",
    "\r\n",
    "* [System](01-Systems.ipynb)\r\n",
    "* [Port](02-Ports.ipynb)\r\n",
    "* [Driver](03-Drivers.ipynb)\r\n",
    "\r\n",
    "We also advice you to read our [Good Pratices](Guidelines.ipynb) to create your own models."
   ],
   "metadata": {}
  },
  {
   "cell_type": "markdown",
   "source": [
    "## Design and simulation features\r\n",
    "\r\n",
    "* [Design methods](11-DesignMethods.ipynb)\r\n",
    "* [Multi-point design](08-Multipoints-Design.ipynb)\r\n",
    "* [Time simulations](TimeDriver.ipynb)\r\n",
    "* [Monte Carlo](09-MonteCarlo.ipynb)\r\n",
    "* [Optimization](Optimization.ipynb)\r\n"
   ],
   "metadata": {}
  },
  {
   "cell_type": "markdown",
   "source": [
    "## Data - advanced attributes\r\n",
    "\r\n",
    "* [Validation](05-Validation.ipynb)\r\n",
    "* [Visibility](06-Visibility.ipynb)"
   ],
   "metadata": {}
  },
  {
   "cell_type": "markdown",
   "source": [
    "## Utilities\r\n",
    "\r\n",
    "CoSApp comes with a couple of utility tools. The following notebooks demonstrate their usage:\r\n",
    "\r\n",
    "* [Recording data](10-Recorders.ipynb)\r\n",
    "* [Simulation log](Logging.ipynb)\r\n",
    "* [System surrogates](SystemSurrogates.ipynb)\r\n",
    "* [Export to FMU](FMI.ipynb)\r\n",
    "* [File Event Triggers](04-Triggers.ipynb)"
   ],
   "metadata": {}
  },
  {
   "cell_type": "markdown",
   "source": [
    "## Tips & Tricks\r\n",
    "\r\n",
    "* [General tips & tricks](TipsAndTricks.ipynb)\r\n",
    "* [Setting targets on output variables](Targets.ipynb)\r\n",
    "* [Writing visitors to inspect systems, ports and drivers](Visitors.ipynb)"
   ],
   "metadata": {}
  },
  {
   "cell_type": "markdown",
   "source": [
    "## Other\r\n",
    "\r\n",
    "* [A simple circuit](aa-SimpleCircuit.ipynb)\r\n",
    "* [Time simulations (Advanced)](TimeDriverAdvanced.ipynb)\r\n",
    "* [System Surrogates (Advanced)](SystemSurrogatesAdvanced.ipynb)"
   ],
   "metadata": {}
  }
 ],
 "metadata": {
  "kernelspec": {
   "display_name": "Python 3",
   "language": "python",
   "name": "python3"
  },
  "language_info": {
   "codemirror_mode": {
    "name": "ipython",
    "version": 3
   },
   "file_extension": ".py",
   "mimetype": "text/x-python",
   "name": "python",
   "nbconvert_exporter": "python",
   "pygments_lexer": "ipython3",
   "version": "3.7.9"
  }
 },
 "nbformat": 4,
 "nbformat_minor": 4
}